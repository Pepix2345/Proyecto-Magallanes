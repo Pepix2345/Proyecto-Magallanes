{
 "cells": [
  {
   "cell_type": "markdown",
   "metadata": {},
   "source": [
    "# Importing relevant libraries"
   ]
  },
  {
   "cell_type": "code",
   "execution_count": 2,
   "metadata": {},
   "outputs": [],
   "source": [
    "import os, geopandas as gpd, mapclassify, numpy as np\n"
   ]
  },
  {
   "cell_type": "markdown",
   "metadata": {},
   "source": [
    "# Geoprojection of paralized projects"
   ]
  },
  {
   "cell_type": "markdown",
   "metadata": {},
   "source": [
    "Importing relevant data"
   ]
  },
  {
   "cell_type": "code",
   "execution_count": 3,
   "metadata": {},
   "outputs": [],
   "source": [
    "countries= gpd.read_file(os.path.join(\"maps\", \"World_Countries\", \"World_Countries.shp\"))\n",
    "cities= gpd.read_file(os.path.join(\"maps\", \"World_cities\",\"World_cities.shp\"))"
   ]
  },
  {
   "cell_type": "markdown",
   "metadata": {},
   "source": [
    "Subsetting "
   ]
  },
  {
   "cell_type": "code",
   "execution_count": 7,
   "metadata": {},
   "outputs": [],
   "source": [
    "peru= countries[countries['COUNTRY']==\"Peru\"]"
   ]
  },
  {
   "cell_type": "code",
   "execution_count": 10,
   "metadata": {},
   "outputs": [],
   "source": [
    "perucities_clipped= gpd.clip(gdf=cities, \n",
    "                             mask= peru)"
   ]
  },
  {
   "cell_type": "code",
   "execution_count": 12,
   "metadata": {},
   "outputs": [
    {
     "data": {
      "text/html": [
       "<div>\n",
       "<style scoped>\n",
       "    .dataframe tbody tr th:only-of-type {\n",
       "        vertical-align: middle;\n",
       "    }\n",
       "\n",
       "    .dataframe tbody tr th {\n",
       "        vertical-align: top;\n",
       "    }\n",
       "\n",
       "    .dataframe thead th {\n",
       "        text-align: right;\n",
       "    }\n",
       "</style>\n",
       "<table border=\"1\" class=\"dataframe\">\n",
       "  <thead>\n",
       "    <tr style=\"text-align: right;\">\n",
       "      <th></th>\n",
       "      <th>COUNTRY</th>\n",
       "      <th>geometry</th>\n",
       "    </tr>\n",
       "  </thead>\n",
       "  <tbody>\n",
       "    <tr>\n",
       "      <th>172</th>\n",
       "      <td>Peru</td>\n",
       "      <td>POLYGON ((-69.56750 -10.95056, -69.56844 -10.9...</td>\n",
       "    </tr>\n",
       "  </tbody>\n",
       "</table>\n",
       "</div>"
      ],
      "text/plain": [
       "    COUNTRY                                           geometry\n",
       "172    Peru  POLYGON ((-69.56750 -10.95056, -69.56844 -10.9..."
      ]
     },
     "execution_count": 12,
     "metadata": {},
     "output_type": "execute_result"
    }
   ],
   "source": [
    "peru"
   ]
  },
  {
   "cell_type": "code",
   "execution_count": 11,
   "metadata": {},
   "outputs": [
    {
     "data": {
      "text/html": [
       "<div>\n",
       "<style scoped>\n",
       "    .dataframe tbody tr th:only-of-type {\n",
       "        vertical-align: middle;\n",
       "    }\n",
       "\n",
       "    .dataframe tbody tr th {\n",
       "        vertical-align: top;\n",
       "    }\n",
       "\n",
       "    .dataframe thead th {\n",
       "        text-align: right;\n",
       "    }\n",
       "</style>\n",
       "<table border=\"1\" class=\"dataframe\">\n",
       "  <thead>\n",
       "    <tr style=\"text-align: right;\">\n",
       "      <th></th>\n",
       "      <th>NAME</th>\n",
       "      <th>COUNTRY</th>\n",
       "      <th>CAPITAL</th>\n",
       "      <th>geometry</th>\n",
       "    </tr>\n",
       "  </thead>\n",
       "  <tbody>\n",
       "    <tr>\n",
       "      <th>269</th>\n",
       "      <td>Arequipa</td>\n",
       "      <td>Peru</td>\n",
       "      <td>N</td>\n",
       "      <td>POINT (-71.52274 -16.39754)</td>\n",
       "    </tr>\n",
       "    <tr>\n",
       "      <th>339</th>\n",
       "      <td>Cuzco</td>\n",
       "      <td>Peru</td>\n",
       "      <td>N</td>\n",
       "      <td>POINT (-71.86000 -13.60000)</td>\n",
       "    </tr>\n",
       "    <tr>\n",
       "      <th>529</th>\n",
       "      <td>Lima</td>\n",
       "      <td>Peru</td>\n",
       "      <td>Y</td>\n",
       "      <td>POINT (-76.82355 -12.06800)</td>\n",
       "    </tr>\n",
       "    <tr>\n",
       "      <th>317</th>\n",
       "      <td>Callao</td>\n",
       "      <td>Peru</td>\n",
       "      <td>N</td>\n",
       "      <td>POINT (-76.83563 -12.04354)</td>\n",
       "    </tr>\n",
       "    <tr>\n",
       "      <th>423</th>\n",
       "      <td>Chimbote</td>\n",
       "      <td>Peru</td>\n",
       "      <td>N</td>\n",
       "      <td>POINT (-78.45315 -8.93010)</td>\n",
       "    </tr>\n",
       "    <tr>\n",
       "      <th>260</th>\n",
       "      <td>Iquitos</td>\n",
       "      <td>Peru</td>\n",
       "      <td>N</td>\n",
       "      <td>POINT (-73.19149 -3.75290)</td>\n",
       "    </tr>\n",
       "    <tr>\n",
       "      <th>476</th>\n",
       "      <td>Trujillo</td>\n",
       "      <td>Peru</td>\n",
       "      <td>N</td>\n",
       "      <td>POINT (-79.00000 -7.93000)</td>\n",
       "    </tr>\n",
       "    <tr>\n",
       "      <th>422</th>\n",
       "      <td>Chiclayo</td>\n",
       "      <td>Peru</td>\n",
       "      <td>N</td>\n",
       "      <td>POINT (-79.83000 -6.62000)</td>\n",
       "    </tr>\n",
       "  </tbody>\n",
       "</table>\n",
       "</div>"
      ],
      "text/plain": [
       "         NAME COUNTRY CAPITAL                     geometry\n",
       "269  Arequipa    Peru       N  POINT (-71.52274 -16.39754)\n",
       "339     Cuzco    Peru       N  POINT (-71.86000 -13.60000)\n",
       "529      Lima    Peru       Y  POINT (-76.82355 -12.06800)\n",
       "317    Callao    Peru       N  POINT (-76.83563 -12.04354)\n",
       "423  Chimbote    Peru       N   POINT (-78.45315 -8.93010)\n",
       "260   Iquitos    Peru       N   POINT (-73.19149 -3.75290)\n",
       "476  Trujillo    Peru       N   POINT (-79.00000 -7.93000)\n",
       "422  Chiclayo    Peru       N   POINT (-79.83000 -6.62000)"
      ]
     },
     "execution_count": 11,
     "metadata": {},
     "output_type": "execute_result"
    }
   ],
   "source": [
    "perucities_clipped"
   ]
  },
  {
   "cell_type": "code",
   "execution_count": null,
   "metadata": {},
   "outputs": [],
   "source": []
  }
 ],
 "metadata": {
  "kernelspec": {
   "display_name": "base",
   "language": "python",
   "name": "python3"
  },
  "language_info": {
   "codemirror_mode": {
    "name": "ipython",
    "version": 3
   },
   "file_extension": ".py",
   "mimetype": "text/x-python",
   "name": "python",
   "nbconvert_exporter": "python",
   "pygments_lexer": "ipython3",
   "version": "3.11.5"
  }
 },
 "nbformat": 4,
 "nbformat_minor": 2
}
