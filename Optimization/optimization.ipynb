{
 "cells": [
  {
   "cell_type": "markdown",
   "metadata": {},
   "source": [
    "# Tarea 5"
   ]
  },
  {
   "cell_type": "markdown",
   "metadata": {},
   "source": [
    "### Ejercicio 1"
   ]
  },
  {
   "cell_type": "code",
   "execution_count": 5,
   "metadata": {},
   "outputs": [],
   "source": [
    "import pulp as pp"
   ]
  },
  {
   "cell_type": "markdown",
   "metadata": {},
   "source": [
    "Definiendo el modelo"
   ]
  },
  {
   "cell_type": "code",
   "execution_count": 6,
   "metadata": {},
   "outputs": [],
   "source": [
    "#Modelo\n",
    "modelo= pp.LpProblem(name=\"supplement-problem\", sense=pp.LpMinimize)\n",
    "#Variables\n",
    "VegaVita = pp.LpVariable(name=\"VegaVita\", lowBound=0, cat='Integer')\n",
    "HappyHealth = pp.LpVariable(name=\"HappyHealth\", lowBound=0, cat='Integer')\n",
    "#Pendientes\n",
    "cost_VegaVita = 0.20\n",
    "cost_HappyHealth = 0.30\n",
    "obj_func = cost_VegaVita * VegaVita + cost_HappyHealth * HappyHealth\n",
    "#Parámetros\n",
    "vitC_req = 60\n",
    "calcium_req = 1000\n",
    "iron_req = 18\n",
    "niacin_req = 20\n",
    "magnesium_req = 360\n",
    "\n",
    "vitC_VegaVita = 20\n",
    "calcium_VegaVita = 500\n",
    "iron_VegaVita = 9\n",
    "niacin_VegaVita = 2\n",
    "magnesium_VegaVita = 60\n",
    "\n",
    "vitC_HappyHealth = 30\n",
    "calcium_HappyHealth = 250\n",
    "iron_HappyHealth = 2\n",
    "niacin_HappyHealth = 10\n",
    "magnesium_HappyHealth = 90"
   ]
  },
  {
   "cell_type": "code",
   "execution_count": 7,
   "metadata": {},
   "outputs": [],
   "source": [
    "# Requerimientos Vitamina\n",
    "C1 = pp.LpConstraint(name='Vitamin C Constraint',\n",
    "                     e=vitC_VegaVita*VegaVita + vitC_HappyHealth*HappyHealth,\n",
    "                     rhs=vitC_req,\n",
    "                     sense=pp.LpConstraintGE)\n",
    "\n",
    "# Requerimientos de calcio\n",
    "C2 = pp.LpConstraint(name='Calcium Constraint',\n",
    "                     e=calcium_VegaVita*VegaVita + calcium_HappyHealth*HappyHealth,\n",
    "                     rhs=calcium_req,\n",
    "                     sense=pp.LpConstraintGE)\n",
    "\n",
    "# Requerimientos de hierro\n",
    "C3 = pp.LpConstraint(name='Iron Constraint',\n",
    "                     e=iron_VegaVita*VegaVita + iron_HappyHealth*HappyHealth,\n",
    "                     rhs=iron_req,\n",
    "                     sense=pp.LpConstraintGE)\n",
    "\n",
    "# Requerimientos de niacinamida\n",
    "C4 = pp.LpConstraint(name='Niacin Constraint',\n",
    "                     e=niacin_VegaVita*VegaVita + niacin_HappyHealth*HappyHealth,\n",
    "                     rhs=niacin_req,\n",
    "                     sense=pp.LpConstraintGE)\n",
    "\n",
    "# Requerimientos de magnesio\n",
    "C5 = pp.LpConstraint(name='Magnesium Constraint',\n",
    "                     e=magnesium_VegaVita*VegaVita + magnesium_HappyHealth*HappyHealth,\n",
    "                     rhs=magnesium_req,\n",
    "                     sense=pp.LpConstraintGE)"
   ]
  },
  {
   "cell_type": "code",
   "execution_count": 8,
   "metadata": {},
   "outputs": [],
   "source": [
    "#Agregando los parámetros\n",
    "model+=obj_func\n",
    "model += C1\n",
    "model += C2\n",
    "model += C3\n",
    "model += C4\n",
    "model += C5"
   ]
  },
  {
   "cell_type": "code",
   "execution_count": 13,
   "metadata": {},
   "outputs": [
    {
     "data": {
      "text/plain": [
       "['GLPK_CMD',\n",
       " 'PYGLPK',\n",
       " 'CPLEX_CMD',\n",
       " 'CPLEX_PY',\n",
       " 'GUROBI',\n",
       " 'GUROBI_CMD',\n",
       " 'MOSEK',\n",
       " 'XPRESS',\n",
       " 'XPRESS',\n",
       " 'XPRESS_PY',\n",
       " 'PULP_CBC_CMD',\n",
       " 'COIN_CMD',\n",
       " 'COINMP_DLL',\n",
       " 'CHOCO_CMD',\n",
       " 'MIPCL_CMD',\n",
       " 'SCIP_CMD',\n",
       " 'FSCIP_CMD',\n",
       " 'SCIP_PY',\n",
       " 'HiGHS',\n",
       " 'HiGHS_CMD',\n",
       " 'COPT',\n",
       " 'COPT_DLL',\n",
       " 'COPT_CMD']"
      ]
     },
     "execution_count": 13,
     "metadata": {},
     "output_type": "execute_result"
    }
   ],
   "source": [
    "solver_list = pp.listSolvers()\n",
    "solver_list"
   ]
  },
  {
   "cell_type": "code",
   "execution_count": 23,
   "metadata": {},
   "outputs": [
    {
     "data": {
      "text/plain": [
       "1"
      ]
     },
     "execution_count": 23,
     "metadata": {},
     "output_type": "execute_result"
    }
   ],
   "source": [
    "#Solucion \n",
    "model.solve()"
   ]
  },
  {
   "cell_type": "code",
   "execution_count": 17,
   "metadata": {},
   "outputs": [
    {
     "name": "stdout",
     "output_type": "stream",
     "text": [
      "{'Model Status': 'Optimal', 'Optimal Solution': 1.2000000000000002, 'HappyHealth': 2.0, 'VegaVita': 3.0}\n"
     ]
    }
   ],
   "source": [
    "#Los resultados\n",
    "Results = {\"Model Status\": pp.LpStatus[model.status]}\n",
    "Results.update({\"Optimal Solution\": pp.value(model.objective)})\n",
    "Results.update({v.name: v.varValue for v in model.variables()})\n",
    "print(Results)"
   ]
  },
  {
   "cell_type": "markdown",
   "metadata": {},
   "source": [
    "### Ejercicio 2"
   ]
  },
  {
   "cell_type": "code",
   "execution_count": 24,
   "metadata": {},
   "outputs": [],
   "source": [
    "from ahp.ahp import AHP"
   ]
  },
  {
   "cell_type": "code",
   "execution_count": 25,
   "metadata": {},
   "outputs": [],
   "source": [
    "import pandas as pd\n",
    "pairwise_costliving=pd.read_excel(\"ahp_masters.xlsx\",sheet_name='costliving', index_col=0)\n",
    "pairwise_academics=pd.read_excel(\"ahp_masters.xlsx\",sheet_name='academics', index_col=0)\n",
    "pairwise_jobopport=pd.read_excel(\"ahp_masters.xlsx\",sheet_name='jobopport', index_col=0)\n",
    "pairwise_language=pd.read_excel(\"ahp_masters.xlsx\",sheet_name='language', index_col=0)\n",
    "pairwise_criteria=pd.read_excel(\"ahp_masters.xlsx\",sheet_name='criteria', index_col=0)"
   ]
  },
  {
   "cell_type": "code",
   "execution_count": 26,
   "metadata": {},
   "outputs": [
    {
     "data": {
      "text/html": [
       "<div>\n",
       "<style scoped>\n",
       "    .dataframe tbody tr th:only-of-type {\n",
       "        vertical-align: middle;\n",
       "    }\n",
       "\n",
       "    .dataframe tbody tr th {\n",
       "        vertical-align: top;\n",
       "    }\n",
       "\n",
       "    .dataframe thead th {\n",
       "        text-align: right;\n",
       "    }\n",
       "</style>\n",
       "<table border=\"1\" class=\"dataframe\">\n",
       "  <thead>\n",
       "    <tr style=\"text-align: right;\">\n",
       "      <th></th>\n",
       "      <th>costliving</th>\n",
       "      <th>academics</th>\n",
       "      <th>jobopport</th>\n",
       "      <th>language</th>\n",
       "    </tr>\n",
       "  </thead>\n",
       "  <tbody>\n",
       "    <tr>\n",
       "      <th>costliving</th>\n",
       "      <td>1.000000</td>\n",
       "      <td>2.000000</td>\n",
       "      <td>4.000000</td>\n",
       "      <td>6</td>\n",
       "    </tr>\n",
       "    <tr>\n",
       "      <th>academics</th>\n",
       "      <td>0.500000</td>\n",
       "      <td>1.000000</td>\n",
       "      <td>3.000000</td>\n",
       "      <td>4</td>\n",
       "    </tr>\n",
       "    <tr>\n",
       "      <th>jobopport</th>\n",
       "      <td>0.250000</td>\n",
       "      <td>0.333333</td>\n",
       "      <td>1.000000</td>\n",
       "      <td>3</td>\n",
       "    </tr>\n",
       "    <tr>\n",
       "      <th>language</th>\n",
       "      <td>0.166667</td>\n",
       "      <td>0.250000</td>\n",
       "      <td>0.333333</td>\n",
       "      <td>1</td>\n",
       "    </tr>\n",
       "  </tbody>\n",
       "</table>\n",
       "</div>"
      ],
      "text/plain": [
       "            costliving  academics  jobopport  language\n",
       "costliving    1.000000   2.000000   4.000000         6\n",
       "academics     0.500000   1.000000   3.000000         4\n",
       "jobopport     0.250000   0.333333   1.000000         3\n",
       "language      0.166667   0.250000   0.333333         1"
      ]
     },
     "execution_count": 26,
     "metadata": {},
     "output_type": "execute_result"
    }
   ],
   "source": [
    "pairwise_criteria"
   ]
  },
  {
   "cell_type": "code",
   "execution_count": 27,
   "metadata": {},
   "outputs": [],
   "source": [
    "#Siguiendo el mismo orden \n",
    "data = [pairwise_costliving.values.tolist(),\n",
    "        pairwise_academics.values.tolist(),\n",
    "        pairwise_jobopport.values.tolist(),\n",
    "        pairwise_language.values.tolist(),\n",
    "        pairwise_criteria.values.tolist()]"
   ]
  },
  {
   "cell_type": "markdown",
   "metadata": {},
   "source": [
    "Implementando el modelo"
   ]
  },
  {
   "cell_type": "code",
   "execution_count": 28,
   "metadata": {},
   "outputs": [],
   "source": [
    "ahp = AHP()\n",
    "ahp.fit(data)"
   ]
  },
  {
   "cell_type": "markdown",
   "metadata": {},
   "source": [
    "Obteniendo la mejor solución"
   ]
  },
  {
   "cell_type": "code",
   "execution_count": 29,
   "metadata": {},
   "outputs": [
    {
     "data": {
      "text/html": [
       "<div>\n",
       "<style scoped>\n",
       "    .dataframe tbody tr th:only-of-type {\n",
       "        vertical-align: middle;\n",
       "    }\n",
       "\n",
       "    .dataframe tbody tr th {\n",
       "        vertical-align: top;\n",
       "    }\n",
       "\n",
       "    .dataframe thead th {\n",
       "        text-align: right;\n",
       "    }\n",
       "</style>\n",
       "<table border=\"1\" class=\"dataframe\">\n",
       "  <thead>\n",
       "    <tr style=\"text-align: right;\">\n",
       "      <th></th>\n",
       "      <th>Score</th>\n",
       "      <th>Ranking</th>\n",
       "    </tr>\n",
       "  </thead>\n",
       "  <tbody>\n",
       "    <tr>\n",
       "      <th>Brazil</th>\n",
       "      <td>0.330573</td>\n",
       "      <td>1.0</td>\n",
       "    </tr>\n",
       "    <tr>\n",
       "      <th>USA</th>\n",
       "      <td>0.242286</td>\n",
       "      <td>2.0</td>\n",
       "    </tr>\n",
       "    <tr>\n",
       "      <th>France</th>\n",
       "      <td>0.138482</td>\n",
       "      <td>5.0</td>\n",
       "    </tr>\n",
       "    <tr>\n",
       "      <th>England</th>\n",
       "      <td>0.145873</td>\n",
       "      <td>3.0</td>\n",
       "    </tr>\n",
       "    <tr>\n",
       "      <th>Germany</th>\n",
       "      <td>0.142786</td>\n",
       "      <td>4.0</td>\n",
       "    </tr>\n",
       "  </tbody>\n",
       "</table>\n",
       "</div>"
      ],
      "text/plain": [
       "            Score  Ranking\n",
       "Brazil   0.330573      1.0\n",
       "USA      0.242286      2.0\n",
       "France   0.138482      5.0\n",
       "England  0.145873      3.0\n",
       "Germany  0.142786      4.0"
      ]
     },
     "execution_count": 29,
     "metadata": {},
     "output_type": "execute_result"
    }
   ],
   "source": [
    "Solution=pd.DataFrame(index=pairwise_jobopport.index)\n",
    "Solution['Score']=ahp.classificate()\n",
    "Solution['Ranking']=Solution.Score.rank(ascending=False)\n",
    "Solution"
   ]
  }
 ],
 "metadata": {
  "kernelspec": {
   "display_name": "base",
   "language": "python",
   "name": "python3"
  },
  "language_info": {
   "codemirror_mode": {
    "name": "ipython",
    "version": 3
   },
   "file_extension": ".py",
   "mimetype": "text/x-python",
   "name": "python",
   "nbconvert_exporter": "python",
   "pygments_lexer": "ipython3",
   "version": "3.11.5"
  }
 },
 "nbformat": 4,
 "nbformat_minor": 2
}
